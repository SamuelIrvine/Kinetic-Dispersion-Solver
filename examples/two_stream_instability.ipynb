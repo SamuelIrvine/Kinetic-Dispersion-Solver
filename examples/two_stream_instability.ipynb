{
 "cells": [
  {
   "cell_type": "code",
   "execution_count": 7,
   "metadata": {
    "collapsed": false
   },
   "outputs": [],
   "source": [
    "\"\"\"Construct a dispersion relation for the two stream instability. \"\"\"\n",
    "from analysis import *\n",
    "from adiplot import *\n",
    "from mpl_toolkits.mplot3d import Axes3D\n",
    "from mpl_toolkits.mplot3d.art3d import Poly3DCollection\n",
    "from multiprocessing import Pool\n",
    "from kineticdispersion2 import Solver, Species\n",
    "from kineticdispersion3 import RelativisticSolver, RelativisticSpecies\n",
    "\n",
    "import warnings\n",
    "warnings.filterwarnings('ignore')\n",
    "\n",
    "%matplotlib inline\n",
    "#%matplotlib notebook"
   ]
  },
  {
   "cell_type": "code",
   "execution_count": 8,
   "metadata": {
    "collapsed": true
   },
   "outputs": [],
   "source": [
    "\"\"\"Define physical constants\"\"\"\n",
    "e0 = 8.85E-12\n",
    "mu0 = 1.26E-6\n",
    "e = 1.6E-19\n",
    "kb = 1.38E-23\n",
    "me = 9.11E-31\n",
    "ev = 11500\n",
    "cl = 3E8"
   ]
  },
  {
   "cell_type": "code",
   "execution_count": 20,
   "metadata": {
    "collapsed": true
   },
   "outputs": [],
   "source": [
    "labelsize=9\n",
    "fontsize=12\n",
    "\n",
    "def miniFigure():\n",
    "    \"\"\"Sets up a small single figure. \"\"\"\n",
    "    fig, ax = plt.subplots(1, 1, figsize=(2.86, 2.42))\n",
    "    plt.subplots_adjust(left=0.17, right=0.83, top=0.97, bottom=0.19)\n",
    "    ax.tick_params('x', labelsize=labelsize)\n",
    "    ax.tick_params('y', labelsize=labelsize)\n",
    "    lbaxes = fig.add_axes([0.17, 0.19, 0.66, 0.78], frameon=False)\n",
    "    lbaxes.set_xticks([])\n",
    "    lbaxes.set_yticks([])\n",
    "    lbaxes.yaxis.tick_right()\n",
    "    lbaxes.tick_params('y', labelsize=labelsize)\n",
    "    lbaxes.yaxis.set_label_position(\"left\")\n",
    "    return fig, ax, lbaxes"
   ]
  },
  {
   "cell_type": "code",
   "execution_count": 21,
   "metadata": {
    "collapsed": false
   },
   "outputs": [],
   "source": [
    "\"\"\"Define constants for the two stream instability\"\"\"\n",
    "Te = ev*1 #Electron temperature of 1ev. \n",
    "B = 0.0000001 #Must define a negilible background magnetic field. \n",
    "density = 2.5E19 #Number density per metre cubed. \n",
    "v0 = cl/1000.0 #Drift velocity\n",
    "vth = cl/1000000.0 #Thermal velocity\n",
    "wpe = (density*e**2/(e0*me))**0.5 #Plasma frequency\n",
    "wce = e*B/me #Electron cyclotron frequency"
   ]
  },
  {
   "cell_type": "code",
   "execution_count": 22,
   "metadata": {
    "collapsed": true
   },
   "outputs": [],
   "source": [
    "\"\"\"Set constants for plotting\"\"\"\n",
    "wunit = wpe #The unit which we normalize frequency to. \n",
    "kunit = wunit/v0 #The unit we normalize wavenumber to. \n",
    "viewbounds = (0.0001, 2, -0.025, 2.0) #The range of values we plot within. "
   ]
  },
  {
   "cell_type": "code",
   "execution_count": 23,
   "metadata": {
    "collapsed": true
   },
   "outputs": [],
   "source": [
    "\"\"\"Compute two streaming maxwellians. Distributions are truncated at 5vth\"\"\"\n",
    "vpara1min = -5*vth - v0\n",
    "vpara1max = 5*vth - v0\n",
    "vpara2min = -5*vth + v0\n",
    "vpara2max = 5*vth + v0\n",
    "vperpmin = 0.0 #vperp starts at 0\n",
    "vperpmax = 5*vth\n",
    "nperp = 1000\n",
    "npara = 1000\n",
    "vpara1 = np.linspace(vpara1min, vpara1max, npara, dtype='float64')\n",
    "vpara2 = np.linspace(vpara2min, vpara2max, npara, dtype='float64')\n",
    "vperp = np.linspace(vperpmin, vperpmax, nperp, dtype='float64')\n",
    "Fvpara1 = np.exp((-0.5*(vpara1 + v0)**2/(vth**2))) #Maxwellian distribution\n",
    "Fvpara2 = np.exp((-0.5*(vpara2 - v0)**2/(vth**2)))\n",
    "Fvperp = np.exp((-0.5*vperp**2/(vth**2)))\n",
    "Fv1 = np.outer(Fvpara1, Fvperp)\n",
    "Fv2 = np.outer(Fvpara2, Fvperp)"
   ]
  },
  {
   "cell_type": "code",
   "execution_count": 24,
   "metadata": {
    "collapsed": true
   },
   "outputs": [],
   "source": [
    "\"\"\"Create a species object for each beam. \"\"\"\n",
    "s1 = Species(-1*e, me, 0.5*density, vpara1, vperp, Fv1, np.arange(0, 1))\n",
    "s2 = Species(-1*e, me, 0.5*density, vpara2, vperp, Fv2, np.arange(0, 1))\n",
    "\n",
    "\"\"\"Create a dispersion solver using a list of species. \"\"\"\n",
    "solver = Solver(B, [s1, s2])"
   ]
  },
  {
   "cell_type": "code",
   "execution_count": 25,
   "metadata": {
    "collapsed": true
   },
   "outputs": [],
   "source": [
    "\"\"\"We can solve at any angle. Angle should not be zero for numerical reasons. \"\"\"\n",
    "theta = 0.000001*np.pi/180\n",
    "\"\"\"ww defines the frequencies which we plot in the background\"\"\"\n",
    "ww = np.linspace(viewbounds[2]*wpe, viewbounds[3]*wpe, 400)+ 0.0001j*wpe\n",
    "kk = np.linspace(viewbounds[0]*kunit, viewbounds[1]*kunit, 100)\n",
    "\"\"\"We use a 2D array of guesses, defined by a real and imaginary components wwr, wwi. \"\"\"\n",
    "wwr = np.linspace(-0.2*wpe, 2.0*wpe, 100)\n",
    "wwi = np.linspace(0.000001j*wpe, 1.8j*wpe, 200)\n",
    "ww2 = np.outer(wwr, np.ones(len(wwi))) + np.outer(np.ones(len(wwr)), wwi)\n",
    "\"\"\"k has a parallel and perpendicular component. \"\"\"\n",
    "kkpara = kk*cos(theta)\n",
    "kkperp = kk*sin(theta)\n",
    "\"\"\"Set up the values of k we will solve for as a list. \"\"\"\n",
    "klist = np.array((kkpara, kkperp)).T"
   ]
  },
  {
   "cell_type": "code",
   "execution_count": 26,
   "metadata": {
    "collapsed": true
   },
   "outputs": [],
   "source": [
    "\"\"\"The problem is embarassingly parallel so we construct a process pool. \"\"\"\n",
    "\"\"\"Here we have used a desktop supporting 8 concurrent threads. \"\"\"\n",
    "pool = Pool(8)\n",
    "\n",
    "\"\"\"Define functions to be mapped to the thread pool. \"\"\"\n",
    "def func(k):\n",
    "    \"\"\"Evaluate the insolution at k using ww. \"\"\"\n",
    "    marginalized = solver.marginalize(ww, k)\n",
    "    return marginalized\n",
    "\n",
    "def func2(k):\n",
    "    \"\"\"Find roots using the 2D initial guess array ww2. \"\"\"\n",
    "    roots = solver.roots(ww2, k)\n",
    "    return roots\n",
    "\n",
    "try:\n",
    "    \"\"\"We construct an array of insolution to plot. \"\"\"\n",
    "    insolution = pool.map_async(func, klist).get(99999)\n",
    "    roots = pool.map_async(func2, klist).get(99999)\n",
    "    pool.close()\n",
    "except:\n",
    "    pool.terminate() #When an exception is thrown we must terminate cleanly. \n",
    "    print 'Pool exception'\n",
    "finally:\n",
    "    pool.join()"
   ]
  },
  {
   "cell_type": "code",
   "execution_count": 27,
   "metadata": {
    "collapsed": false
   },
   "outputs": [],
   "source": [
    "insolution = np.array(insolution)\n",
    "\n",
    "\"\"\"Post process the output into plottable format. \"\"\"\n",
    "root_w = []\n",
    "root_k = []\n",
    "for rootset, k in zip(roots, klist):\n",
    "    for root in rootset:\n",
    "        root_w.append(root[0])\n",
    "        root_k.append((k[0]**2 + k[1]**2)**0.5*np.sign(k[0]))\n",
    "        \n",
    "root_w = np.array(root_w)\n",
    "root_k = np.array(root_k)\n",
    "\n",
    "\"\"\"We differentiate between small and large growth rates. \"\"\"\n",
    "growthmask = np.where(root_w.imag/wunit>1E-3)\n",
    "stationarymask = np.where(root_w.imag/wunit<=1E-3)"
   ]
  },
  {
   "cell_type": "code",
   "execution_count": 32,
   "metadata": {
    "collapsed": false
   },
   "outputs": [
    {
     "data": {
      "image/png": "[encoded data removed]",
      "text/plain": [
       "<matplotlib.figure.Figure at 0x7f31621637d0>"
      ]
     },
     "metadata": {},
     "output_type": "display_data"
    }
   ],
   "source": [
    "\"\"\"Finally we generate the figure. \"\"\"\n",
    "fig, ax, lbaxes = miniFigure()\n",
    "lbaxes.yaxis.set_label_position(\"right\")\n",
    "\n",
    "im = ax.imshow((np.sign(insolution.real)/np.abs(insolution)**0.5).T,\n",
    "               aspect='auto', interpolation='nearest', extent=viewbounds, \n",
    "               vmin=-2.5E1, vmax=2.5E1, origin='lower', cmap='bwr')\n",
    "ax.plot(root_k[stationarymask]/kunit, root_w[stationarymask].real/wunit, \n",
    "        ls='None', marker='.', color='black', markersize=4)\n",
    "ax.plot(root_k[growthmask]/kunit, root_w[growthmask].real/wunit, \n",
    "        ls='None', marker='.', color='lime', markersize=4)\n",
    "ax.plot(root_k[growthmask]/kunit, root_w[growthmask].imag*1E0/wunit, \n",
    "        color='red', ls='None', marker='.', markersize=4)\n",
    "ax.set_ylim(viewbounds[2], viewbounds[3])\n",
    "ax.set_xlim(0, 2)\n",
    "\n",
    "ax.set_xlabel('$kv_{0}/\\omega_{pe}$', fontsize=fontsize)\n",
    "ax.set_ylabel('$\\omega[\\omega_{pe}]$', fontsize=fontsize)\n",
    "lbaxes.set_ylabel('$\\gamma[\\omega_{pe}]$', fontsize=fontsize)\n",
    "ax.tick_params('x', labelsize=labelsize)\n",
    "ax.tick_params('y', labelsize=labelsize)"
   ]
  },
  {
   "cell_type": "code",
   "execution_count": null,
   "metadata": {
    "collapsed": true
   },
   "outputs": [],
   "source": []
  }
 ],
 "metadata": {
  "hide_input": false,
  "kernelspec": {
   "display_name": "Python 2",
   "language": "python",
   "name": "python2"
  },
  "language_info": {
   "codemirror_mode": {
    "name": "ipython",
    "version": 2
   },
   "file_extension": ".py",
   "mimetype": "text/x-python",
   "name": "python",
   "nbconvert_exporter": "python",
   "pygments_lexer": "ipython2",
   "version": "2.7.12"
  },
  "toc": {
   "colors": {
    "hover_highlight": "#DAA520",
    "navigate_num": "#000000",
    "navigate_text": "#333333",
    "running_highlight": "#FF0000",
    "selected_highlight": "#FFD700",
    "sidebar_border": "#EEEEEE",
    "wrapper_background": "#FFFFFF"
   },
   "moveMenuLeft": true,
   "nav_menu": {
    "height": "12px",
    "width": "252px"
   },
   "navigate_menu": true,
   "number_sections": true,
   "sideBar": true,
   "threshold": 4,
   "toc_cell": false,
   "toc_section_display": "block",
   "toc_window_display": false,
   "widenNotebook": false
  }
 },
 "nbformat": 4,
 "nbformat_minor": 2
}
