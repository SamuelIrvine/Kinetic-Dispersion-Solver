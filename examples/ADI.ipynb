{
 "cells": [
  {
   "cell_type": "code",
   "execution_count": 1,
   "metadata": {
    "collapsed": true
   },
   "outputs": [],
   "source": [
    "\"\"\"In this notebook we demonstrate using the kinetic dispersion solver to \n",
    "compute the solution to the anomalous Doppler instability. \"\"\"\n",
    "import numpy as np\n",
    "import matplotlib.pyplot as plt\n",
    "from multiprocessing import Pool\n",
    "from KineticDispersion import Solver, Species\n",
    "import warnings\n",
    "warnings.filterwarnings('ignore')\n",
    "%matplotlib inline\n",
    "#%matplotlib notebook"
   ]
  },
  {
   "cell_type": "code",
   "execution_count": 2,
   "metadata": {
    "collapsed": true
   },
   "outputs": [],
   "source": [
    "\"\"\"Define physical constants\"\"\"\n",
    "e0 = 8.85E-12\n",
    "mu0 = 1.26E-6\n",
    "e = 1.6E-19\n",
    "kb = 1.38E-23\n",
    "me = 9.11E-31\n",
    "ev = 11500"
   ]
  },
  {
   "cell_type": "code",
   "execution_count": 3,
   "metadata": {
    "collapsed": true
   },
   "outputs": [],
   "source": [
    "labelsize=9\n",
    "fontsize=12\n",
    "\n",
    "def singleFigure():\n",
    "    \"\"\"Sets up a single panel figure. \"\"\"\n",
    "    fig, ax = plt.subplots(1, 1, figsize=(3.8, 3.42))\n",
    "    plt.subplots_adjust(left=0.13, right=0.87, top=0.98, bottom=0.14)\n",
    "    ax.tick_params('x', labelsize=labelsize)\n",
    "    ax.tick_params('y', labelsize=labelsize)\n",
    "    lbaxes = fig.add_axes([0.11, 0.14, 0.78, 0.84], frameon=False)\n",
    "    lbaxes.set_xticks([])\n",
    "    lbaxes.set_yticks([])\n",
    "    lbaxes.yaxis.tick_right()\n",
    "    lbaxes.tick_params('y', labelsize=labelsize)\n",
    "    lbaxes.yaxis.set_label_position(\"right\")\n",
    "    return fig, ax, lbaxes\n",
    "\n",
    "def wideFigure():\n",
    "    fig, ax = plt.subplots(1, 1, figsize=(5.5, 2.2914))\n",
    "    plt.subplots_adjust(left=0.08, right=0.92, top=0.97, bottom=0.23)\n",
    "    fig.subplots_adjust(hspace=0.075, wspace=0.075)\n",
    "    ax.tick_params('x', labelsize=labelsize)\n",
    "    ax.tick_params('y', labelsize=labelsize)\n",
    "    lbaxes = fig.add_axes([0.06, 0.23, 0.88, 0.74], frameon=False)\n",
    "    lbaxes.set_xticks([])\n",
    "    lbaxes.set_yticks([])\n",
    "    lbaxes.yaxis.tick_right()\n",
    "    lbaxes.tick_params('y', labelsize=labelsize)\n",
    "    lbaxes.yaxis.set_label_position(\"right\")\n",
    "    return fig, ax, lbaxes"
   ]
  },
  {
   "cell_type": "code",
   "execution_count": 4,
   "metadata": {
    "collapsed": false
   },
   "outputs": [],
   "source": [
    "\"\"\"Define constants for the two stream instability\"\"\"\n",
    "Te = 100*ev #electron temperature\n",
    "vth = (kb*Te/me)**0.5 #thermal velocity\n",
    "ne = 2.5E19 #number density per metre cubed\n",
    "B = 2.0\n",
    "vm = 18.5*vth #maximum parallel velocity\n",
    "xi = 0.04\n",
    "wpe = (ne*e**2/(e0*me))**0.5 #Plasma frequency\n",
    "wce = e*B/me #Electron cyclotron frequency"
   ]
  },
  {
   "cell_type": "code",
   "execution_count": 16,
   "metadata": {
    "collapsed": false
   },
   "outputs": [],
   "source": [
    "\"\"\"Set constants for plotting\"\"\"\n",
    "wunit = wpe #The unit which we normalize frequency to. \n",
    "kunit = wunit/vth #The unit we normalize wavenumber to. \n",
    "fvmin = -5 #Minimum log probability to plot\n",
    "viewbounds = (-0.3, 0.3, 0.0, 2.0)#The range of values we plot within. "
   ]
  },
  {
   "cell_type": "code",
   "execution_count": 17,
   "metadata": {
    "collapsed": false
   },
   "outputs": [],
   "source": [
    "\"\"\"Compute two streaming maxwellians. Distributions are truncated at 5vth\"\"\"\n",
    "npara = 1000\n",
    "nperp = 1000\n",
    "vpara = np.linspace(-5.0, 22.0, npara)*vth\n",
    "vperp = np.linspace(0.0, 5.0, nperp)*vth\n",
    "\n",
    "vbm = vth*np.log(vm**2*(1-xi)**2/(vth**2*2*np.pi*xi**2))**0.5\n",
    "Fvpara = (vpara<vbm)*(1-xi)*np.exp(-0.5*vpara**2/(vth**2))/ \\\n",
    "(2*np.pi*vth**2)**0.5 + ((vpara>vbm) & (vpara<vm))*xi*1.0/vm + \\\n",
    "(vpara>vm)*xi*np.exp(-0.5*(vpara - vm)**2/vth**2)/vm\n",
    "Fvperp = np.exp((-0.5*vperp**2/(vth**2)))\n",
    "Fv = np.outer(Fvpara, Fvperp)"
   ]
  },
  {
   "cell_type": "code",
   "execution_count": 18,
   "metadata": {
    "collapsed": false
   },
   "outputs": [
    {
     "data": {
      "text/plain": [
       "<matplotlib.text.Text at 0x7fca38fb3610>"
      ]
     },
     "execution_count": 18,
     "metadata": {},
     "output_type": "execute_result"
    },
    {
     "data": {
      "image/png": "[encoded data removed]",
      "text/plain": [
       "<matplotlib.figure.Figure at 0x7fca385ba0d0>"
      ]
     },
     "metadata": {},
     "output_type": "display_data"
    }
   ],
   "source": [
    "fig, ax, lbaxes = wideFigure()\n",
    "ax.fill_between(vpara/vth, np.log10(Fvpara*vth), fvmin, \n",
    "                where=np.log10(Fvpara*vth)>fvmin, \n",
    "                color='blue', alpha=0.5, zorder=100)\n",
    "ax.plot(vpara/vth, np.log10(Fvpara*vth))\n",
    "ax.set_xlim(-5, 22)\n",
    "ax.set_ylim(-5, 0)\n",
    "ax.set_yticks(ax.get_yticks()[::4])\n",
    "lbaxes.yaxis.set_label_position(\"left\")\n",
    "lbaxes.set_ylabel('$log_{10}[F_e(v_{\\parallel})]$', fontsize=fontsize)\n",
    "ax.set_xlabel('$v_{\\parallel}[v_{th}]$')"
   ]
  },
  {
   "cell_type": "code",
   "execution_count": 19,
   "metadata": {
    "collapsed": false
   },
   "outputs": [],
   "source": [
    "\"\"\"Create a species object for each beam. \"\"\"\n",
    "s1 = Species(-1*e, me, ne, vpara, vperp, Fv, np.arange(-1, 2))\n",
    "\n",
    "\"\"\"Create a dispersion solver using a list of species. \"\"\"\n",
    "solver = Solver(B, [s1])"
   ]
  },
  {
   "cell_type": "code",
   "execution_count": 40,
   "metadata": {
    "collapsed": false
   },
   "outputs": [],
   "source": [
    "\"\"\"Solve at 45 degrees. \"\"\"\n",
    "theta = 45*np.pi/180\n",
    "\"\"\"ww defines the frequencies which we plot in the background\"\"\"\n",
    "ww = np.linspace(viewbounds[2]*wpe, viewbounds[3]*wpe, 100)+ 0.0001j*wpe\n",
    "kk = np.linspace(viewbounds[0]*kunit, viewbounds[1]*kunit, 400)\n",
    "\"\"\"We use a 2D array of guesses, defined by a real and imaginary components wwr, wwi. \"\"\"\n",
    "wwr = np.linspace(0.00001*wpe, 2*wpe, 100)\n",
    "wwi = np.linspace(0.000001j*wpe, 0.005j*wpe, 10)\n",
    "ww2 = np.outer(wwr, np.ones(len(wwi))) + np.outer(np.ones(len(wwr)), wwi)\n",
    "\"\"\"k has a parallel and perpendicular component. \"\"\"\n",
    "kkpara = kk*np.cos(theta)\n",
    "kkperp = kk*np.sin(theta)\n",
    "\"\"\"Set up the values of k we will solve for as a list. \"\"\"\n",
    "klist = np.array((kkpara, kkperp)).T"
   ]
  },
  {
   "cell_type": "code",
   "execution_count": 41,
   "metadata": {
    "collapsed": false
   },
   "outputs": [],
   "source": [
    "\"\"\"The problem is embarassingly parallel so we construct a process pool. \"\"\"\n",
    "\"\"\"Here we have used a desktop supporting 8 concurrent threads. \"\"\"\n",
    "\n",
    "\"\"\"Define functions to be mapped to the process pool. \"\"\"\n",
    "def func(k):\n",
    "    \"\"\"Evaluate the insolution at k using ww. \"\"\"\n",
    "    marginalized = solver.marginalize(ww, k)\n",
    "    return marginalized\n",
    "\n",
    "def func2(k):\n",
    "    \"\"\"Find roots using the 2D initial guess array ww2. \"\"\"\n",
    "    roots = solver.roots(ww2, k)\n",
    "    return roots\n",
    "\n",
    "pool = Pool(8)\n",
    "\n",
    "try:\n",
    "    \"\"\"We construct an array of insolution to plot. \"\"\"\n",
    "    insolution = np.array(pool.map_async(func, klist).get(99999))\n",
    "    roots = pool.map_async(func2, klist).get(99999)\n",
    "    pool.close()\n",
    "except:\n",
    "    pool.terminate() #When an exception is thrown we must terminate cleanly. \n",
    "    print 'Pool exception'\n",
    "finally:\n",
    "    pool.join()"
   ]
  },
  {
   "cell_type": "code",
   "execution_count": 55,
   "metadata": {
    "collapsed": false
   },
   "outputs": [],
   "source": [
    "root_w = []\n",
    "root_k = []\n",
    "\n",
    "for rootset, k in zip(roots, klist):\n",
    "    for root in rootset:\n",
    "        root_w.append(root[0])\n",
    "        root_k.append((k[0]**2 + k[1]**2)**0.5*np.sign(k[0]))\n",
    "\n",
    "        \n",
    "root_w = np.array(root_w)\n",
    "root_k = np.array(root_k)\n",
    "\n",
    "growthmask = np.where(root_w.imag/wunit>1E-4)\n",
    "dampmask = np.where((root_w.imag/wunit<-1E-4) & (root_w.imag/wunit>-0.025))\n",
    "stationarymask = np.where(abs(root_w.imag)/wunit<1E-4)"
   ]
  },
  {
   "cell_type": "code",
   "execution_count": 56,
   "metadata": {
    "collapsed": false,
    "scrolled": true
   },
   "outputs": [
    {
     "data": {
      "image/png": "[encoded data removed]",
      "text/plain": [
       "<matplotlib.figure.Figure at 0x7fca38d40fd0>"
      ]
     },
     "metadata": {},
     "output_type": "display_data"
    }
   ],
   "source": [
    "\"\"\"Finally we generate the figure. \"\"\"\n",
    "fig, ax, lbaxes = singleFigure()\n",
    "lbaxes.yaxis.set_label_position(\"right\")\n",
    "\n",
    "im = ax.imshow((np.sign(insolution.real)/np.abs(insolution)**0.5).T,\n",
    "               aspect='auto', interpolation='nearest', extent=viewbounds, \n",
    "               vmin=-2.5E1, vmax=2.5E1, origin='lower', cmap='bwr')\n",
    "ax.plot(root_k[stationarymask]/kunit, root_w[stationarymask].real/wunit, ls='None', marker='.', color='black', markersize=4)\n",
    "ax.plot(root_k[dampmask]/kunit, root_w[dampmask].real/wunit, ls='None', marker='.', color='green', markersize=4)\n",
    "ax.plot(root_k[growthmask]/kunit, root_w.imag[growthmask]*100/wunit, ls='None', marker='.', color='red', markersize=4)\n",
    "ax.plot(root_k[growthmask]/kunit, root_w.real[growthmask]/wunit, ls='None', marker='.', color='cyan', markersize=4)\n",
    "ax.set_ylim(viewbounds[2], viewbounds[3])\n",
    "ax.set_xlim(viewbounds[0], viewbounds[1])\n",
    "\n",
    "ax.set_xlabel('$kv_{0}/\\omega_{pe}$', fontsize=fontsize)\n",
    "ax.set_ylabel('$\\omega[\\omega_{pe}]$', fontsize=fontsize)\n",
    "lbaxes.set_ylabel('$\\gamma[\\omega_{pe}]$', fontsize=fontsize)\n",
    "ax.tick_params('x', labelsize=labelsize)\n",
    "ax.tick_params('y', labelsize=labelsize)"
   ]
  },
  {
   "cell_type": "code",
   "execution_count": null,
   "metadata": {
    "collapsed": true
   },
   "outputs": [],
   "source": []
  }
 ],
 "metadata": {
  "hide_input": false,
  "kernelspec": {
   "display_name": "Python 2",
   "language": "python",
   "name": "python2"
  },
  "language_info": {
   "codemirror_mode": {
    "name": "ipython",
    "version": 2
   },
   "file_extension": ".py",
   "mimetype": "text/x-python",
   "name": "python",
   "nbconvert_exporter": "python",
   "pygments_lexer": "ipython2",
   "version": "2.7.12"
  },
  "toc": {
   "colors": {
    "hover_highlight": "#DAA520",
    "navigate_num": "#000000",
    "navigate_text": "#333333",
    "running_highlight": "#FF0000",
    "selected_highlight": "#FFD700",
    "sidebar_border": "#EEEEEE",
    "wrapper_background": "#FFFFFF"
   },
   "moveMenuLeft": true,
   "nav_menu": {
    "height": "12px",
    "width": "252px"
   },
   "navigate_menu": true,
   "number_sections": true,
   "sideBar": true,
   "threshold": 4,
   "toc_cell": false,
   "toc_section_display": "block",
   "toc_window_display": false,
   "widenNotebook": false
  }
 },
 "nbformat": 4,
 "nbformat_minor": 2
}
