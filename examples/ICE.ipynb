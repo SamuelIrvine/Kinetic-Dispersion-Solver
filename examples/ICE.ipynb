{
 "cells": [
  {
   "cell_type": "code",
   "execution_count": 1,
   "metadata": {
    "collapsed": false
   },
   "outputs": [],
   "source": [
    "\"\"\"In this notebook we calculate growth rates for the \n",
    "magnetoacoustic cyclotron instability of fusion born ions \n",
    "produced at 3.5MeV.\"\"\"\n",
    "import numpy as np\n",
    "import matplotlib.pyplot as plt\n",
    "from multiprocessing import Pool\n",
    "from KineticDispersion import Solver, Species\n",
    "import warnings\n",
    "warnings.filterwarnings('ignore')\n",
    "%matplotlib inline\n",
    "#%matplotlib notebook"
   ]
  },
  {
   "cell_type": "code",
   "execution_count": 2,
   "metadata": {
    "collapsed": true
   },
   "outputs": [],
   "source": [
    "\"\"\"Define physical constants\"\"\"\n",
    "e0 = 8.85E-12 #Permittivity of free space\n",
    "mu0 = 1.26E-6 #Permeability of free space\n",
    "e = 1.6E-19 #Electron charge\n",
    "kb = 1.38E-23 #Boltzmann constant\n",
    "me = 9.11E-31 #Electron mass \n",
    "md = 3.344e-27 #Deuterium mass\n",
    "ma = 6.644E-27 #Alpha mass\n",
    "ev = 11500 #Temperature of one electron volt"
   ]
  },
  {
   "cell_type": "code",
   "execution_count": 3,
   "metadata": {
    "collapsed": true
   },
   "outputs": [],
   "source": [
    "labelsize=9\n",
    "fontsize=12\n",
    "\n",
    "def singleFigure():\n",
    "    \"\"\"Sets up a single panel figure. \"\"\"\n",
    "    fig, ax = plt.subplots(1, 1, figsize=(3.8, 3.42))\n",
    "    plt.subplots_adjust(left=0.13, right=0.87, top=0.98, bottom=0.14)\n",
    "    ax.tick_params('x', labelsize=labelsize)\n",
    "    ax.tick_params('y', labelsize=labelsize)\n",
    "    lbaxes = fig.add_axes([0.11, 0.14, 0.78, 0.84], frameon=False)\n",
    "    lbaxes.set_xticks([])\n",
    "    lbaxes.set_yticks([])\n",
    "    lbaxes.yaxis.tick_right()\n",
    "    lbaxes.tick_params('y', labelsize=labelsize)\n",
    "    lbaxes.yaxis.set_label_position(\"right\")\n",
    "    return fig, ax, lbaxes"
   ]
  },
  {
   "cell_type": "code",
   "execution_count": 4,
   "metadata": {
    "collapsed": true
   },
   "outputs": [],
   "source": [
    "\"\"\"All variables are defined in SI units. \"\"\"\n",
    "Te = 1000*ev#Electron temperature\n",
    "Td = 1000*ev#Deuteron temperature\n",
    "Ta = 1000*ev#Alpha temperature\n",
    "B = 2.1#Background magnetic field\n",
    "ne = 1E19#Electron number density\n",
    "nb = 1E-3*ne#Number density of background beam ions\n",
    "nd = ne - nb*2#Number density of background Deuterons\n",
    "\n",
    "eBeam = 3500000*e#Energy of beam\n",
    "\n",
    "vthe = (kb*Te/me)**0.5 #Electron thermal velocity\n",
    "vthd = (kb*Td/md)**0.5 #Deuteron thermal velocity\n",
    "vtha = (kb*Ta/ma)**0.5 #Alpha thermal velocity\n",
    "vb = (2*eBeam/ma)**0.5 #Velocity of ring beam\n",
    "\n",
    "wpe = (ne*e**2/(e0*me))**0.5 #Electron plasma frequency\n",
    "wce = e*B/me #Electron cyclotron frequency\n",
    "wcd = e*B/md #Deuteron cyclotron frequency\n",
    "wca = 2*e*B/ma #Alpha cyclotron frequency\n",
    "\n",
    "rho = nd*md + nb*ma + ne*me #Mass density\n",
    "va = B/(mu0*rho)**0.5#Alfven velocity"
   ]
  },
  {
   "cell_type": "code",
   "execution_count": 23,
   "metadata": {
    "collapsed": false
   },
   "outputs": [],
   "source": [
    "\"\"\"Variables for plotting. \"\"\"\n",
    "wunit = wca\n",
    "kunit = wunit/va\n",
    "viewbounds = (0.00001,  19.9, 0.0001, 19.9)\n",
    "\n",
    "theta = 89.5*np.pi/180\n",
    "ww = np.linspace(viewbounds[2], viewbounds[3], 160)*wunit + 0.001j*wca\n",
    "kk = np.linspace(viewbounds[0], viewbounds[1], 160)*kunit\n",
    "wwr = np.linspace(viewbounds[2], viewbounds[3], 100)*wunit\n",
    "wwi = np.linspace(-0.0025j*wca, 0.0025j*wca, 10)\n",
    "ww2 = np.outer(wwr, np.ones(len(wwi))) + \\\n",
    "np.outer(np.ones(len(wwr)), wwi)\n",
    "kkpara = kk*np.cos(theta)\n",
    "kkperp = kk*np.sin(theta)\n",
    "klist = np.array((kkpara, kkperp)).T"
   ]
  },
  {
   "cell_type": "code",
   "execution_count": 24,
   "metadata": {
    "collapsed": false
   },
   "outputs": [],
   "source": [
    "\"\"\"Set up three distribution functions on 100x100 grids. \"\"\"\n",
    "veparamin = -5*vthe\n",
    "veparamax = 5*vthe\n",
    "veperpmin = 0.0\n",
    "veperpmax = 5*vthe\n",
    "\n",
    "vdparamin = -5*vthd\n",
    "vdparamax = 5*vthd\n",
    "vdperpmin = 0.0\n",
    "vdperpmax = 5*vthd\n",
    "\n",
    "vbparamin = -5*vtha\n",
    "vbparamax = 5*vtha\n",
    "vbperpmin = vb - 5*vtha\n",
    "vbperpmax = vb + 5*vtha\n",
    "\n",
    "nperp = 100\n",
    "npara = 100\n",
    "\n",
    "vepara = np.linspace(veparamin, veparamax, npara, dtype='float64')\n",
    "veperp = np.linspace(veperpmin, veperpmax, nperp, dtype='float64')\n",
    "vdpara = np.linspace(vdparamin, vdparamax, npara, dtype='float64')\n",
    "vdperp = np.linspace(vdperpmin, vdperpmax, nperp, dtype='float64')\n",
    "vbpara = np.linspace(vbparamin, vbparamax, npara, dtype='float64')\n",
    "vbperp = np.linspace(vbperpmin, vbperpmax, nperp, dtype='float64')\n",
    "\n",
    "Fevpara = np.exp((-0.5*vepara**2/(vthe**2)))\n",
    "Fevperp = np.exp((-0.5*veperp**2/(vthe**2)))\n",
    "Fdvpara = np.exp((-0.5*vdpara**2/(vthd**2)))\n",
    "Fdvperp = np.exp((-0.5*vdperp**2/(vthd**2)))\n",
    "Fbvpara = np.exp((-0.5*vbpara**2/(vtha**2)))\n",
    "Fbvperp = np.exp((-0.5*(vbperp - vb)**2/(vtha**2)))\n",
    "\n",
    "Fev = np.outer(Fevpara, Fevperp)\n",
    "Fdv = np.outer(Fdvpara, Fdvperp)\n",
    "Fbv = np.outer(Fbvpara, Fbvperp)"
   ]
  },
  {
   "cell_type": "code",
   "execution_count": 25,
   "metadata": {
    "collapsed": true
   },
   "outputs": [],
   "source": [
    "\"\"\"Initialise the species and solver objects. \"\"\"\n",
    "s1 = Species(-1*e, me, ne, vepara, veperp, Fev, np.arange(-1, 2))\n",
    "s2 = Species(1*e, md, nd, vdpara, vdperp, Fdv, np.arange(-21, 20))\n",
    "s3 = Species(2*e, ma, nb, vbpara, vbperp, Fbv, np.arange(-21, 20))\n",
    "\n",
    "solver = Solver(B, [s1, s2, s3])"
   ]
  },
  {
   "cell_type": "code",
   "execution_count": 26,
   "metadata": {
    "collapsed": true
   },
   "outputs": [],
   "source": [
    "def func(k):\n",
    "    marginalized = solver.marginalize(ww, k)\n",
    "    return marginalized\n",
    "\n",
    "def func2(k):\n",
    "    roots = solver.roots(ww2, k)\n",
    "    return roots\n",
    "\n",
    "pool = Pool(8)\n",
    "\n",
    "try:\n",
    "    insolution = np.array(pool.map_async(func, klist).get(99999))\n",
    "    roots = pool.map_async(func2, klist).get(99999)\n",
    "    pool.close()\n",
    "except:\n",
    "    pool.terminate()\n",
    "    print 'Pool exception'\n",
    "finally:\n",
    "    pool.join()"
   ]
  },
  {
   "cell_type": "code",
   "execution_count": 28,
   "metadata": {
    "collapsed": true
   },
   "outputs": [],
   "source": [
    "root_w = []\n",
    "root_k = []\n",
    "\n",
    "for rootset, k in zip(roots, klist):\n",
    "    for root in rootset:\n",
    "        root_w.append(root[0])\n",
    "        root_k.append((k[0]**2 + k[1]**2)**0.5*np.sign(k[0]))\n",
    "\n",
    "        \n",
    "root_w = np.array(root_w)\n",
    "root_k = np.array(root_k)\n",
    "\n",
    "growthmask = np.where(root_w.imag/wunit>1E-5)\n",
    "stationarymask = np.where(abs(root_w.imag)/wunit<=1E-5)\n",
    "dampmask = np.where(root_w.imag/wunit<-1E-5)"
   ]
  },
  {
   "cell_type": "code",
   "execution_count": 41,
   "metadata": {
    "collapsed": false,
    "scrolled": false
   },
   "outputs": [
    {
     "data": {
      "image/png": "[encoded data removed]",
      "text/plain": [
       "<matplotlib.figure.Figure at 0x7f3ace46b6d0>"
      ]
     },
     "metadata": {},
     "output_type": "display_data"
    }
   ],
   "source": [
    "\n",
    "fig, ax, lbaxes = singleFigure()\n",
    "im = ax.imshow((np.sign(insolution.real)/np.abs(insolution)**0.5).T, \n",
    "               aspect='auto', interpolation='nearest', extent=viewbounds, \n",
    "               vmin=-1E0, vmax=1E0, origin='lower', cmap='bwr')\n",
    "ax.plot(root_k[stationarymask]/kunit, root_w[stationarymask].real/wunit, \n",
    "        ls='None', marker='.', color='black', markersize=4)\n",
    "ax.plot(root_k[growthmask]/kunit, root_w[growthmask].real/wunit, \n",
    "        ls='None', marker='.', color='#FFC700', markersize=4)\n",
    "ax.plot(root_k[growthmask]/kunit, root_w[growthmask].imag/wunit*10, \n",
    "        ls='None', marker='.', color='red', markersize=4)\n",
    "ax.set_ylim(viewbounds[2], viewbounds[3])\n",
    "ax.set_xlim(viewbounds[0], viewbounds[1])\n",
    "\n",
    "ax.set_xlabel('$kv_{A}/\\Omega_{c\\\\alpha}$', fontsize=fontsize)\n",
    "ax.set_ylabel('$\\omega[\\Omega_{c\\\\alpha}]$', fontsize=fontsize)\n",
    "lbaxes.set_ylabel('$\\gamma[\\Omega_{c\\\\alpha} \\\\times 10]$', \n",
    "                  fontsize=fontsize)\n",
    "\n",
    "ax.tick_params('x', labelsize=labelsize)\n",
    "ax.tick_params('y', labelsize=labelsize)"
   ]
  },
  {
   "cell_type": "code",
   "execution_count": null,
   "metadata": {
    "collapsed": true
   },
   "outputs": [],
   "source": []
  }
 ],
 "metadata": {
  "hide_input": false,
  "kernelspec": {
   "display_name": "Python 2",
   "language": "python",
   "name": "python2"
  },
  "language_info": {
   "codemirror_mode": {
    "name": "ipython",
    "version": 2
   },
   "file_extension": ".py",
   "mimetype": "text/x-python",
   "name": "python",
   "nbconvert_exporter": "python",
   "pygments_lexer": "ipython2",
   "version": "2.7.12"
  },
  "toc": {
   "colors": {
    "hover_highlight": "#DAA520",
    "navigate_num": "#000000",
    "navigate_text": "#333333",
    "running_highlight": "#FF0000",
    "selected_highlight": "#FFD700",
    "sidebar_border": "#EEEEEE",
    "wrapper_background": "#FFFFFF"
   },
   "moveMenuLeft": true,
   "nav_menu": {
    "height": "12px",
    "width": "252px"
   },
   "navigate_menu": true,
   "number_sections": true,
   "sideBar": true,
   "threshold": 4,
   "toc_cell": false,
   "toc_section_display": "block",
   "toc_window_display": false,
   "widenNotebook": false
  }
 },
 "nbformat": 4,
 "nbformat_minor": 2
}
